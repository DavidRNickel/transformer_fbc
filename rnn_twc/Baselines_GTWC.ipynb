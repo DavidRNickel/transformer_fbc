{
 "cells": [
  {
   "cell_type": "code",
   "execution_count": 1,
   "metadata": {},
   "outputs": [],
   "source": [
    "############\n",
    "# import argparse\n",
    "import math\n",
    "import random\n",
    "\n",
    "import numpy as np\n",
    "\n",
    "# from parameters_setup\n",
    "from ipynb.fs.full.module import * # !pip install ipynb"
   ]
  },
  {
   "cell_type": "code",
   "execution_count": 4,
   "metadata": {},
   "outputs": [
    {
     "data": {
      "text/html": [
       "<style type='text/css'>\n",
       ".CodeMirror{\n",
       "font-size: 17px;\n",
       "</style>\n"
      ],
      "text/plain": [
       "<IPython.core.display.HTML object>"
      ]
     },
     "metadata": {},
     "output_type": "display_data"
    }
   ],
   "source": [
    "# %%html\n",
    "# <style type='text/css'>\n",
    "# .CodeMirror{\n",
    "# font-size: 17px;\n",
    "# </style>"
   ]
  },
  {
   "cell_type": "code",
   "execution_count": 30,
   "metadata": {},
   "outputs": [],
   "source": [
    "# Zero padding (ZP) + Weight allocation (W)\n",
    "# Activation: tanh"
   ]
  },
  {
   "cell_type": "code",
   "execution_count": 15,
   "metadata": {},
   "outputs": [],
   "source": [
    "# import scipy\n",
    "# from scipy import special as sp\n",
    "# def qfunc(x):\n",
    "#     return 0.5-0.5*sp.erf(x/np.sqrt(2))\n",
    "\n",
    "# def SER(B,r, SNR, block_power):\n",
    "#     a = np.sqrt(3*(2**B-1)/(2**B+1)) # max amplitude so that E[m^2] =1\n",
    "#     d = 2*a/(2**B-1) # symbol distance\n",
    "#     ser = (2**(B+1)-2)/2**B*qfunc(d/2*np.sqrt(SNR))\n",
    "#     return ser"
   ]
  },
  {
   "cell_type": "code",
   "execution_count": 44,
   "metadata": {},
   "outputs": [
    {
     "name": "stdout",
     "output_type": "stream",
     "text": [
      "np1, np2: 0.7943282347242815 0.01\n",
      "\n",
      "Openloop. BPSK\n",
      "rate1,2:  0.3333333333333333 4.0\n",
      "SNR1,2:      3.78 100.0\n",
      "power1,2:    3.0 1.0\n",
      "ser1,2:      0.02598434801681676 0.2606959562070798\n",
      "Bler1,2:     0.025984348016816705 0.595918241925887\n",
      "ber1,2 (approx):      0.02598434801681676 0.06517398905176995\n",
      "sum ser:     0.28668030422389656\n",
      "sum bler:    0.6219025899427038\n",
      "\n"
     ]
    }
   ],
   "source": [
    "## Repetitive coding: Open-loop closed form!!\n",
    "\n",
    "SNR1 = 1               # SNR at User1 in dB\n",
    "SNR2 = 20               # SNR at User2 in dB\n",
    "np1 = 10**(-SNR1/10)   # noise power1 -- Assuming signal power is set to 1\n",
    "sigma1 = np.sqrt(np1)\n",
    "np2 = 10**(-SNR2/10)\n",
    "sigma2 = np.sqrt(np2)\n",
    "\n",
    "K1 = 1     # number of bits at User 1\n",
    "K2 = 12     # number of bits at User 2\n",
    "N = 3      # number of channel uses\n",
    "r1 = N/K1 # 1/(coding rate 1)\n",
    "r2 = N/K2 # 1/(coding rate 2)\n",
    "print('np1, np2:',np1, np2)\n",
    "print()\n",
    "\n",
    "print('Openloop. BPSK')\n",
    "B1= 1  # bits per symbol at User 1\n",
    "B2= 4  # bits per symbol at User 2\n",
    "M1 = K1//B1  # only one symbol at each end\n",
    "M2 = K2//B2\n",
    "\n",
    "block_power1 = 1*N/M1    # power per symbol = # of channel user per symbol\n",
    "block_power2 = 1*N/M2    # power per symbol = # of channel user per symbol\n",
    "\n",
    "SNR1 = block_power1/np1 # open-loop SNR\n",
    "SNR2 = block_power2/np2 # open-loop SNR\n",
    "ser1 = SER(B1,SNR1)\n",
    "ser2 = SER(B2,SNR2)\n",
    "bler1 = 1-(1-ser1)**M1\n",
    "bler2 = 1-(1-ser2)**M2\n",
    "print('rate1,2: ', 1/r1, 1/r2)\n",
    "print('SNR1,2:     ', np.round(SNR1,2), np.round(SNR2,2))\n",
    "print('power1,2:   ', block_power1, block_power2)\n",
    "print('ser1,2:     ',ser1, ser2)\n",
    "print('Bler1,2:    ',bler1, bler2)\n",
    "print('ber1,2 (approx):     ',ser1/B1, ser2/B2)\n",
    "print('sum ser:    ',ser1+ser2)\n",
    "print('sum bler:   ',bler1+bler2)\n",
    "print()\n",
    "\n",
    "\n",
    "\n",
    "\n",
    "# ## Openloop-4ary: 2 bits are converted to 1 PAM symbol\n",
    "# print('Openloop. 4ary PAM')\n",
    "# B=2\n",
    "# block_power = B*r\n",
    "# SNR1 = block_power/np1 # open-loop SNR\n",
    "# SNR2 = block_power/np2 # open-loop SNR\n",
    "# ser1 = SER(B,r,SNR1, block_power)\n",
    "# ser2 = SER(B,r,SNR2, block_power)\n",
    "# bler1 = 1-(1-ser1)**(K//B)\n",
    "# bler2 = 1-(1-ser2)**(K//B)\n",
    "# print('# of symbols: ',K//B)\n",
    "# print('SNR1,2:     ', np.round(SNR1,2), np.round(SNR2,2))\n",
    "# print('Ber1,2:     ',ser1, ser2)\n",
    "# print('Bler1,2:    ',bler1, bler2)\n",
    "# print()"
   ]
  },
  {
   "cell_type": "code",
   "execution_count": null,
   "metadata": {},
   "outputs": [],
   "source": []
  },
  {
   "cell_type": "code",
   "execution_count": 30,
   "metadata": {},
   "outputs": [
    {
     "data": {
      "text/plain": [
       "0.0"
      ]
     },
     "execution_count": 30,
     "metadata": {},
     "output_type": "execute_result"
    }
   ],
   "source": [
    "ser2"
   ]
  },
  {
   "cell_type": "code",
   "execution_count": null,
   "metadata": {},
   "outputs": [],
   "source": []
  },
  {
   "cell_type": "code",
   "execution_count": null,
   "metadata": {},
   "outputs": [],
   "source": [
    "# #### Open loop -- Empirically\n",
    "# x1_tran = (2*X1_test-1).repeat(1,1,parameter.code_rate) # batch,10,3\n",
    "# x2_tran = (2*X2_test-1).repeat(1,1,parameter.code_rate) # batch,10,3\n",
    "# noise1 = noise1_test.view(N_test_block, parameter.block_len,-1) # batch,10,3\n",
    "# noise2 = noise2_test.view(N_test_block, parameter.block_len,-1) # batch,10,3\n",
    "\n",
    "# # Trasmission\n",
    "# y2_rec = x1_tran+noise1\n",
    "# y1_rec = x2_tran+noise2\n",
    "\n",
    "# # Decoding at User 2\n",
    "# y2_rec_sum = torch.sum(y2_rec, dim=2).view(N_test_block, parameter.block_len,1)\n",
    "# X1_hat = (y2_rec_sum>0).int()\n",
    "# # Decoding at User 1\n",
    "# y1_rec_sum = torch.sum(y1_rec, dim=2).view(N_test_block, parameter.block_len,1)\n",
    "# X2_hat = (y1_rec_sum>0).int()\n",
    "\n",
    "# test1_ber_openloop = errors_ber(X1_hat.cpu(),X1_test.cpu())\n",
    "# test1_bler_openloop = errors_bler(X1_hat.cpu(),X1_test.cpu())\n",
    "# test2_ber_openloop = errors_ber(X2_hat.cpu(),X2_test.cpu())\n",
    "# test2_bler_openloop = errors_bler(X2_hat.cpu(),X2_test.cpu())\n",
    "\n",
    "# print('Ber1:  ', float(test1_ber_openloop))\n",
    "# print('Ber2:  ', float(test2_ber_openloop))\n",
    "# print('Bler1: ', float(test1_bler_openloop))\n",
    "# print('Bler2: ', float(test2_bler_openloop))\n",
    "# print()\n"
   ]
  }
 ],
 "metadata": {
  "kernelspec": {
   "display_name": "my-torch",
   "language": "python",
   "name": "my-torch"
  },
  "language_info": {
   "codemirror_mode": {
    "name": "ipython",
    "version": 3
   },
   "file_extension": ".py",
   "mimetype": "text/x-python",
   "name": "python",
   "nbconvert_exporter": "python",
   "pygments_lexer": "ipython3",
   "version": "3.6.13"
  }
 },
 "nbformat": 4,
 "nbformat_minor": 2
}
